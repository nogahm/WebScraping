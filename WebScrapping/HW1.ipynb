{
 "cells": [
  {
   "cell_type": "code",
   "execution_count": 2,
   "metadata": {
    "collapsed": true
   },
   "outputs": [],
   "source": [
    "#import the library used to query a website\n",
    "from urllib.request import urlopen\n",
    "#specify the url\n",
    "wiki = \"https://en.wikipedia.org/wiki/Gal_Gadot\"\n",
    "#Query the website and return the html to the variable 'page'\n",
    "page = urlopen(wiki)\n",
    "#import the Beautiful soup functions to parse the data returned from the website\n",
    "from bs4 import BeautifulSoup\n",
    "#Parse the html in the 'page' variable, and store it in Beautiful Soup format\n",
    "soup = BeautifulSoup(page, \"lxml\")"
   ]
  },
  {
   "cell_type": "code",
   "execution_count": 3,
   "metadata": {
    "collapsed": true
   },
   "outputs": [],
   "source": [
    "# find films table\n",
    "right_table=soup.find('table', class_='wikitable sortable')"
   ]
  },
  {
   "cell_type": "markdown",
   "metadata": {},
   "source": [
    "Question 1:"
   ]
  },
  {
   "cell_type": "code",
   "execution_count": 19,
   "metadata": {
    "collapsed": false
   },
   "outputs": [],
   "source": [
    "import re\n",
    "#Generate lists\n",
    "A=[]\n",
    "B=[]\n",
    "C=[]\n",
    "D=[]\n",
    "moviesLinks=[] #for Question2\n",
    "year=''\n",
    "role=''\n",
    "yearIndex=-1\n",
    "roleIndex=-1\n",
    "\n",
    "for row in right_table.findAll(\"tr\"):\n",
    "    cells = row.findAll('td')\n",
    "    #all cells\n",
    "    if len(cells)==5:\n",
    "        A.append(cells[0].find(text=True))\n",
    "        B.append(cells[1].find(text=True))\n",
    "        C.append(cells[2].find(text=True))\n",
    "        D.append(cells[3].find(text=True))\n",
    "        #check rowspan\n",
    "        if cells[0].has_attr('rowspan'):\n",
    "            year=cells[0].find(text=True)\n",
    "            yearIndex=int(cells[0].attrs['rowspan'])-1\n",
    "        if cells[2].has_attr('rowspan'):\n",
    "            role=cells[2].find(text=True)\n",
    "            roleIndex=int(cells[2].attrs['rowspan'])-1\n",
    "        #save link to movie page\n",
    "        a = cells[1].find_all('a')\n",
    "        if len(a)>0:\n",
    "            moviesLinks.append(a[0].get('href'))\n",
    "    #year or role not exist\n",
    "    if len(cells)==4:\n",
    "        #no year\n",
    "        if yearIndex>0:\n",
    "            A.append(year)\n",
    "            yearIndex=yearIndex-1\n",
    "            B.append(cells[0].find(text=True))\n",
    "            C.append(cells[1].find(text=True))\n",
    "            D.append(cells[2].find(text=True))\n",
    "            #check role rowspan\n",
    "            if cells[1].has_attr('rowspan'):\n",
    "                role=cells[1].find(text=True)\n",
    "                roleIndex=int(cells[1].attrs['rowspan'])-1\n",
    "            #save link to movie page\n",
    "            a = cells[0].find_all('a')\n",
    "            if len(a)>0:\n",
    "                moviesLinks.append(a[0].get('href'))\n",
    "        if roleIndex>0:\n",
    "            A.append(cells[0].find(text=True))\n",
    "            B.append(cells[1].find(text=True))\n",
    "            C.append(role)\n",
    "            D.append(cells[2].find(text=True))\n",
    "            roleIndex=roleIndex-1\n",
    "            #check year rowspan\n",
    "            if cells[0].has_attr('rowspan'):\n",
    "                year=cells[0].find(text=True)\n",
    "                yearIndex=int(cells[0].attrs['rowspan'])-1\n",
    "            #save link to movie page\n",
    "            a = cells[1].find_all('a')\n",
    "            if len(a)>0:\n",
    "                moviesLinks.append(a[0].get('href'))\n",
    "    #year and role not in row\n",
    "    if len(cells)==3:\n",
    "        A.append(year)\n",
    "        B.append(cells[0].find(text=True))\n",
    "        C.append(role)\n",
    "        D.append(cells[1].find(text=True))\n",
    "        yearIndex=yearIndex-1\n",
    "        roleIndex=roleIndex-1\n",
    "        #save link to movie page\n",
    "        a = cells[0].find_all('a')\n",
    "        if len(a)>0:\n",
    "            moviesLinks.append(a[0].get('href'))"
   ]
  },
  {
   "cell_type": "code",
   "execution_count": 20,
   "metadata": {
    "collapsed": true
   },
   "outputs": [
    {
     "data": {
      "text/html": [
       "<div>\n",
       "<table border=\"1\" class=\"dataframe\">\n",
       "  <thead>\n",
       "    <tr style=\"text-align: right;\">\n",
       "      <th></th>\n",
       "      <th>Year</th>\n",
       "      <th>Title</th>\n",
       "      <th>Role</th>\n",
       "      <th>Director(s)</th>\n",
       "    </tr>\n",
       "  </thead>\n",
       "  <tbody>\n",
       "    <tr>\n",
       "      <th>0</th>\n",
       "      <td>2009</td>\n",
       "      <td>Fast &amp; Furious</td>\n",
       "      <td>Gisele Yashar</td>\n",
       "      <td>Justin Lin</td>\n",
       "    </tr>\n",
       "    <tr>\n",
       "      <th>1</th>\n",
       "      <td>2010</td>\n",
       "      <td>Date Night</td>\n",
       "      <td>Natanya</td>\n",
       "      <td>Shawn Levy</td>\n",
       "    </tr>\n",
       "    <tr>\n",
       "      <th>2</th>\n",
       "      <td>2010</td>\n",
       "      <td>Knight and Day</td>\n",
       "      <td>Naomi</td>\n",
       "      <td>James Mangold</td>\n",
       "    </tr>\n",
       "    <tr>\n",
       "      <th>3</th>\n",
       "      <td>2011</td>\n",
       "      <td>Fast Five</td>\n",
       "      <td>Gisele Yashar</td>\n",
       "      <td>Justin Lin</td>\n",
       "    </tr>\n",
       "    <tr>\n",
       "      <th>4</th>\n",
       "      <td>2013</td>\n",
       "      <td>Fast &amp; Furious 6</td>\n",
       "      <td>Gisele Yashar</td>\n",
       "      <td>Justin Lin</td>\n",
       "    </tr>\n",
       "    <tr>\n",
       "      <th>5</th>\n",
       "      <td>2014</td>\n",
       "      <td>Kicking Out Shoshana</td>\n",
       "      <td>Mirit Ben Harush</td>\n",
       "      <td>Shay Kanot</td>\n",
       "    </tr>\n",
       "    <tr>\n",
       "      <th>6</th>\n",
       "      <td>2015</td>\n",
       "      <td>Furious 7</td>\n",
       "      <td>Gisele Yashar</td>\n",
       "      <td>James Wan</td>\n",
       "    </tr>\n",
       "    <tr>\n",
       "      <th>7</th>\n",
       "      <td>2016</td>\n",
       "      <td>Triple 9</td>\n",
       "      <td>Elena Vlaslov</td>\n",
       "      <td>John Hillcoat</td>\n",
       "    </tr>\n",
       "    <tr>\n",
       "      <th>8</th>\n",
       "      <td>2016</td>\n",
       "      <td>Batman v Superman: Dawn of Justice</td>\n",
       "      <td>Diana Prince</td>\n",
       "      <td>Zack Snyder</td>\n",
       "    </tr>\n",
       "    <tr>\n",
       "      <th>9</th>\n",
       "      <td>2016</td>\n",
       "      <td>Criminal</td>\n",
       "      <td>Jill Pope</td>\n",
       "      <td>Ariel Vromen</td>\n",
       "    </tr>\n",
       "    <tr>\n",
       "      <th>10</th>\n",
       "      <td>2016</td>\n",
       "      <td>Keeping Up with the Joneses</td>\n",
       "      <td>Natalie Jones</td>\n",
       "      <td>Greg Mottola</td>\n",
       "    </tr>\n",
       "    <tr>\n",
       "      <th>11</th>\n",
       "      <td>2017</td>\n",
       "      <td>Wonder Woman</td>\n",
       "      <td>Diana Prince / Wonder Woman</td>\n",
       "      <td>Patty Jenkins</td>\n",
       "    </tr>\n",
       "    <tr>\n",
       "      <th>12</th>\n",
       "      <td>2017</td>\n",
       "      <td>Justice League</td>\n",
       "      <td>Diana Prince / Wonder Woman</td>\n",
       "      <td>Zack Snyder</td>\n",
       "    </tr>\n",
       "    <tr>\n",
       "      <th>13</th>\n",
       "      <td>2018</td>\n",
       "      <td>Ralph Breaks the Internet</td>\n",
       "      <td>Shank (voice)</td>\n",
       "      <td>Rich Moore</td>\n",
       "    </tr>\n",
       "    <tr>\n",
       "      <th>14</th>\n",
       "      <td>2020</td>\n",
       "      <td>Wonder Woman 1984</td>\n",
       "      <td>Diana Prince / Wonder Woman</td>\n",
       "      <td>Patty Jenkins</td>\n",
       "    </tr>\n",
       "    <tr>\n",
       "      <th>15</th>\n",
       "      <td>2020</td>\n",
       "      <td>Red Notice</td>\n",
       "      <td>TBA</td>\n",
       "      <td>Rawson Marshall Thurber</td>\n",
       "    </tr>\n",
       "    <tr>\n",
       "      <th>16</th>\n",
       "      <td>2020</td>\n",
       "      <td>Death on the Nile</td>\n",
       "      <td>Linnet Ridgeway Doyle</td>\n",
       "      <td>Kenneth Branagh</td>\n",
       "    </tr>\n",
       "    <tr>\n",
       "      <th>17</th>\n",
       "      <td>TBA</td>\n",
       "      <td>My Dear Fidel</td>\n",
       "      <td>None</td>\n",
       "      <td>TBA</td>\n",
       "    </tr>\n",
       "  </tbody>\n",
       "</table>\n",
       "</div>"
      ],
      "text/plain": [
       "<div>\n",
       "<table border=\"1\" class=\"dataframe\">\n",
       "  <thead>\n",
       "    <tr style=\"text-align: right;\">\n",
       "      <th></th>\n",
       "      <th>Year</th>\n",
       "      <th>Title</th>\n",
       "      <th>Role</th>\n",
       "      <th>Director(s)</th>\n",
       "    </tr>\n",
       "  </thead>\n",
       "  <tbody>\n",
       "    <tr>\n",
       "      <th>0</th>\n",
       "      <td>2009</td>\n",
       "      <td>Fast &amp; Furious</td>\n",
       "      <td>Gisele Yashar</td>\n",
       "      <td>Justin Lin</td>\n",
       "    </tr>\n",
       "    <tr>\n",
       "      <th>1</th>\n",
       "      <td>2010</td>\n",
       "      <td>Date Night</td>\n",
       "      <td>Natanya</td>\n",
       "      <td>Shawn Levy</td>\n",
       "    </tr>\n",
       "    <tr>\n",
       "      <th>2</th>\n",
       "      <td>2010</td>\n",
       "      <td>Knight and Day</td>\n",
       "      <td>Naomi</td>\n",
       "      <td>James Mangold</td>\n",
       "    </tr>\n",
       "    <tr>\n",
       "      <th>3</th>\n",
       "      <td>2011</td>\n",
       "      <td>Fast Five</td>\n",
       "      <td>Gisele Yashar</td>\n",
       "      <td>Justin Lin</td>\n",
       "    </tr>\n",
       "    <tr>\n",
       "      <th>4</th>\n",
       "      <td>2013</td>\n",
       "      <td>Fast &amp; Furious 6</td>\n",
       "      <td>Gisele Yashar</td>\n",
       "      <td>Justin Lin</td>\n",
       "    </tr>\n",
       "    <tr>\n",
       "      <th>5</th>\n",
       "      <td>2014</td>\n",
       "      <td>Kicking Out Shoshana</td>\n",
       "      <td>Mirit Ben Harush</td>\n",
       "      <td>Shay Kanot</td>\n",
       "    </tr>\n",
       "    <tr>\n",
       "      <th>6</th>\n",
       "      <td>2015</td>\n",
       "      <td>Furious 7</td>\n",
       "      <td>Gisele Yashar</td>\n",
       "      <td>James Wan</td>\n",
       "    </tr>\n",
       "    <tr>\n",
       "      <th>7</th>\n",
       "      <td>2016</td>\n",
       "      <td>Triple 9</td>\n",
       "      <td>Elena Vlaslov</td>\n",
       "      <td>John Hillcoat</td>\n",
       "    </tr>\n",
       "    <tr>\n",
       "      <th>8</th>\n",
       "      <td>2016</td>\n",
       "      <td>Batman v Superman: Dawn of Justice</td>\n",
       "      <td>Diana Prince</td>\n",
       "      <td>Zack Snyder</td>\n",
       "    </tr>\n",
       "    <tr>\n",
       "      <th>9</th>\n",
       "      <td>2016</td>\n",
       "      <td>Criminal</td>\n",
       "      <td>Jill Pope</td>\n",
       "      <td>Ariel Vromen</td>\n",
       "    </tr>\n",
       "    <tr>\n",
       "      <th>10</th>\n",
       "      <td>2016</td>\n",
       "      <td>Keeping Up with the Joneses</td>\n",
       "      <td>Natalie Jones</td>\n",
       "      <td>Greg Mottola</td>\n",
       "    </tr>\n",
       "    <tr>\n",
       "      <th>11</th>\n",
       "      <td>2017</td>\n",
       "      <td>Wonder Woman</td>\n",
       "      <td>Diana Prince / Wonder Woman</td>\n",
       "      <td>Patty Jenkins</td>\n",
       "    </tr>\n",
       "    <tr>\n",
       "      <th>12</th>\n",
       "      <td>2017</td>\n",
       "      <td>Justice League</td>\n",
       "      <td>Diana Prince / Wonder Woman</td>\n",
       "      <td>Zack Snyder</td>\n",
       "    </tr>\n",
       "    <tr>\n",
       "      <th>13</th>\n",
       "      <td>2018</td>\n",
       "      <td>Ralph Breaks the Internet</td>\n",
       "      <td>Shank (voice)</td>\n",
       "      <td>Rich Moore</td>\n",
       "    </tr>\n",
       "    <tr>\n",
       "      <th>14</th>\n",
       "      <td>2020</td>\n",
       "      <td>Wonder Woman 1984</td>\n",
       "      <td>Diana Prince / Wonder Woman</td>\n",
       "      <td>Patty Jenkins</td>\n",
       "    </tr>\n",
       "    <tr>\n",
       "      <th>15</th>\n",
       "      <td>2020</td>\n",
       "      <td>Red Notice</td>\n",
       "      <td>TBA</td>\n",
       "      <td>Rawson Marshall Thurber</td>\n",
       "    </tr>\n",
       "    <tr>\n",
       "      <th>16</th>\n",
       "      <td>2020</td>\n",
       "      <td>Death on the Nile</td>\n",
       "      <td>Linnet Ridgeway Doyle</td>\n",
       "      <td>Kenneth Branagh</td>\n",
       "    </tr>\n",
       "    <tr>\n",
       "      <th>17</th>\n",
       "      <td>TBA</td>\n",
       "      <td>My Dear Fidel</td>\n",
       "      <td>None</td>\n",
       "      <td>TBA</td>\n",
       "    </tr>\n",
       "  </tbody>\n",
       "</table>\n",
       "</div>"
      ]
     },
     "execution_count": 20,
     "metadata": {},
     "output_type": "execute_result"
    }
   ],
   "source": [
    "#import pandas and convert list to data frame\n",
    "import pandas as pd\n",
    "df=pd.DataFrame()\n",
    "df['Year']=A\n",
    "df['Title']=B\n",
    "df['Role']=C\n",
    "df['Director(s)']=D\n",
    "df"
   ]
  },
  {
   "cell_type": "markdown",
   "metadata": {},
   "source": [
    "Question 2:"
   ]
  },
  {
   "cell_type": "code",
   "execution_count": 21,
   "metadata": {
    "collapsed": true
   },
   "outputs": [
    {
     "name": "stdout",
     "output_type": "stream",
     "text": [
      "['/wiki/Vin_Diesel', '/wiki/Paul_Walker', '/wiki/Michelle_Rodr%C3%ADguez', '/wiki/Jordana_Brewster', '/wiki/Gal_Gadot', '/wiki/John_Ortiz', '/wiki/Laz_Alonso', '/wiki/Jack_Conley_(actor)', '/wiki/Shea_Whigham', '/wiki/Tego_Calder%C3%B3n', '/wiki/Don_Omar', '/wiki/Sung_Kang', '/wiki/Liza_Lapira', '/wiki/Mirtha_Michelle', '/wiki/Greg_Cipes', '/wiki/Ron_Yuan', '/wiki/Neil_Brown_Jr.', '/w/index.php?title=Wilmer_Calderon&action=edit&redlink=1', '/wiki/Brandon_T._Jackson', '/wiki/Mousa_Kraish', '/wiki/Alejandro_Patino', '/wiki/Greg_Collins_(American_football)', '/wiki/Steve_Carell', '/wiki/Tina_Fey', '/wiki/Mark_Wahlberg', '/wiki/Taraji_P._Henson', '/wiki/William_Fichtner', '/wiki/James_Franco', '/wiki/Mila_Kunis', '/wiki/Mark_Ruffalo', '/wiki/Kristen_Wiig', '/wiki/Common_(entertainer)', '/wiki/Jimmi_Simpson', '/wiki/Bill_Burr', '/wiki/Leighton_Meester', '/wiki/Gal_Gadot', '/wiki/Olivia_Munn', '/wiki/J._B._Smoove', '/wiki/Michelle_Galdenzi', '/wiki/Will.i.am', '/wiki/Nick_Kroll', '/wiki/Max_Charles', '/wiki/Jon_Bernthal', '/wiki/Ray_Liotta', '/wiki/Tom_Cruise', '/wiki/Cameron_Diaz', '/wiki/Peter_Sarsgaard', '/wiki/Jordi_Moll%C3%A0', '/wiki/Viola_Davis', '/wiki/Paul_Dano', '/wiki/Falk_Hentschel', '/wiki/Marc_Blucas', '/wiki/Maggie_Grace', '/wiki/Dale_Dye', '/wiki/Celia_Weston', '/wiki/Gal_Gadot', '/wiki/Jack_O%27Connell_(actor)', '/wiki/Vin_Diesel', '/wiki/Vin_Diesel', '/wiki/Paul_Walker', '/wiki/Dwayne_Johnson', '/wiki/Michelle_Rodriguez', '/wiki/Jordana_Brewster', '/wiki/Tyrese_Gibson', '/wiki/Ludacris', '/wiki/Sung_Kang', '/wiki/Gal_Gadot', '/wiki/Luke_Evans_(actor)', '/wiki/Gina_Carano', '/wiki/John_Ortiz', '/wiki/Shea_Whigham', '/wiki/Elsa_Pataky', '/wiki/David_Ajala', '/wiki/Kim_Kold', '/wiki/Thure_Lindhardt', '/wiki/Joe_Taslim', '/wiki/Clara_Paget', '/wiki/Benjamin_Davies_(actor)', '/wiki/Rita_Ora', '/wiki/Jason_Statham', '/wiki/Oshri_Cohen', '/wiki/Gal_Gadot', '/wiki/Eli_Finish', '/wiki/Mariano_Idelman', '/wiki/Vin_Diesel', '/wiki/Paul_Walker', '/wiki/Cody_Walker_(actor)', '/wiki/Dwayne_Johnson', '/wiki/Michelle_Rodriguez', '/wiki/Tyrese_Gibson', '/wiki/Ludacris', '/wiki/Jordana_Brewster', '/wiki/Djimon_Hounsou', '/wiki/Tony_Jaa', '/wiki/Ronda_Rousey', '/wiki/Nathalie_Emmanuel', '/wiki/Kurt_Russell', '/wiki/Jason_Statham', '/wiki/Sung_Kang', '/wiki/Gal_Gadot', '/wiki/Lucas_Black', '/wiki/Elsa_Pataky', '/wiki/Noel_Gugliemi', '/wiki/John_Brotherton', '/wiki/Ali_Fazal', '/wiki/Luke_Evans_(actor)', '/wiki/Iggy_Azalea', '/wiki/Bow_Wow_(rapper)', '/wiki/Tego_Calder%C3%B3n', '/wiki/Casey_Affleck', '/wiki/Anthony_Mackie', '/wiki/Chiwetel_Ejiofor', '/wiki/Clifton_Collins_Jr.', '/wiki/Woody_Harrelson', '/wiki/Aaron_Paul', '/wiki/Kate_Winslet', '/wiki/Gal_Gadot', '/wiki/Norman_Reedus', '/wiki/Teresa_Palmer', '/wiki/Michael_K._Williams', '/wiki/Michelle_Ang', '/wiki/Luis_Da_Silva', '/wiki/Kurt_Yaeger', '/wiki/Ben_Affleck', '/wiki/Kevin_Costner', '/wiki/Gal_Gadot', '/wiki/Tommy_Lee_Jones', '/wiki/Gary_Oldman', '/wiki/Ryan_Reynolds', '/wiki/Alice_Eve', '/wiki/Michael_Pitt', '/wiki/Jordi_Moll%C3%A0', '/wiki/Antje_Traue', '/wiki/Scott_Adkins', '/wiki/Amaury_Nolasco', '/wiki/Colin_Salmon', '/wiki/Tommy_Hatto', '/wiki/Robert_Davi', '/wiki/Richard_Reid_(actor)', '/wiki/Natalie_Burn', '/w/index.php?title=Lara_Decaro&action=edit&redlink=1', '/wiki/Zach_Galifianakis', '/wiki/Jon_Hamm', '/wiki/Isla_Fisher', '/wiki/Gal_Gadot', '/wiki/Matt_Walsh_(comedian)', '/wiki/Maribeth_Monroe', '/wiki/Patton_Oswalt', '/wiki/Kevin_Dunn', '/wiki/Ari_Shaffir', '/wiki/Jona_Xiao', '/wiki/Bobby_Lee', '/wiki/Gal_Gadot', '/wiki/Ben_Affleck', '/wiki/Henry_Cavill', '/wiki/Amy_Adams', '/wiki/Gal_Gadot', '/wiki/Ezra_Miller', '/wiki/Jason_Momoa', '/wiki/Ray_Fisher_(actor)', '/wiki/Jeremy_Irons', '/wiki/Diane_Lane', '/wiki/Connie_Nielsen', '/wiki/J._K._Simmons', '/wiki/Ciar%C3%A1n_Hinds', '/wiki/John_C._Reilly', '/wiki/Sarah_Silverman', '/wiki/Jack_McBrayer', '/wiki/Jane_Lynch', '/wiki/Gal_Gadot', '/wiki/Taraji_P._Henson', '/wiki/Alfred_Molina', '/wiki/Alan_Tudyk', '/wiki/Ed_O%27Neill', '/wiki/Flula_Borg', '/wiki/Hamish_Blake', '/wiki/Ali_Wong', '/wiki/GloZell_Green', '/wiki/Timothy_Simons', '/wiki/Ana_Ortiz', '/wiki/Gal_Gadot', '/wiki/Chris_Pine', '/wiki/Kristen_Wiig', '/wiki/Connie_Nielsen', '/wiki/Robin_Wright', '/wiki/Dwayne_Johnson', '/wiki/Gal_Gadot']\n"
     ]
    }
   ],
   "source": [
    "#find all cast\n",
    "castLinks=[]\n",
    "#collect all cast members links\n",
    "for link in moviesLinks:\n",
    "    moviePage = urlopen(\"https://en.wikipedia.org\"+link)\n",
    "    movieSoup = BeautifulSoup(moviePage, \"lxml\")\n",
    "    if(movieSoup.find(id=\"Cast\")):\n",
    "        cast=(movieSoup.find(id=\"Cast\").parent).find_next('ul')\n",
    "        # print(cast)\n",
    "        # if len(cast)>0:\n",
    "        #     cast2=cast[0]\n",
    "        # else:\n",
    "        #     print(link+\" no ul\")\n",
    "    if(movieSoup.find(id=\"Voice_cast\")):\n",
    "        cast=(movieSoup.find(id=\"Voice_cast\").parent).find_next('ul')\n",
    "        # if len(cast)>0:\n",
    "        #     cast=cast[0]\n",
    "        # else:\n",
    "        #     print(link+\" no ul\")\n",
    "    lines = cast.find_all('li')\n",
    "    for line in lines:\n",
    "        a = line.find_all('a')\n",
    "        if len(a)>0:\n",
    "            castLinks.append(a[0].get('href'))\n",
    "print(castLinks)"
   ]
  },
  {
   "cell_type": "code",
   "execution_count": 55,
   "metadata": {},
   "outputs": [],
   "source": [
    "#go throw cast links and collect information"
   ]
  },
  {
   "cell_type": "code",
   "execution_count": 70,
   "metadata": {
    "collapsed": true
   },
   "outputs": [
    {
     "name": "stdout",
     "output_type": "stream",
     "text": [
      "148\n"
     ]
    },
    {
     "name": "stdout",
     "output_type": "stream",
     "text": [
      "<span class=\"fn\">Vin Diesel</span>\n"
     ]
    },
    {
     "name": "stdout",
     "output_type": "stream",
     "text": [
      "<span class=\"fn\">Paul Walker</span>\n"
     ]
    },
    {
     "name": "stdout",
     "output_type": "stream",
     "text": [
      "<span class=\"fn\">Michelle Rodriguez</span>\n"
     ]
    },
    {
     "name": "stdout",
     "output_type": "stream",
     "text": [
      "<span class=\"fn\">Jordana Brewster</span>\n"
     ]
    },
    {
     "name": "stdout",
     "output_type": "stream",
     "text": [
      "<span class=\"fn\">John Ortiz</span>\n"
     ]
    },
    {
     "name": "stdout",
     "output_type": "stream",
     "text": [
      "<span class=\"fn\">Laz Alonso</span>\n"
     ]
    },
    {
     "name": "stdout",
     "output_type": "stream",
     "text": [
      "<span class=\"fn\">Jack Conley</span>\n"
     ]
    },
    {
     "name": "stdout",
     "output_type": "stream",
     "text": [
      "<span class=\"fn\">Shea Whigham</span>\n"
     ]
    },
    {
     "name": "stdout",
     "output_type": "stream",
     "text": [
      "<span class=\"fn\">Tego Calderón</span>\n"
     ]
    },
    {
     "name": "stdout",
     "output_type": "stream",
     "text": [
      "<span class=\"fn\">Sung Kang</span>\n"
     ]
    },
    {
     "name": "stdout",
     "output_type": "stream",
     "text": [
      "<span class=\"fn\">Liza Lapira</span>\n"
     ]
    },
    {
     "name": "stdout",
     "output_type": "stream",
     "text": [
      "<span class=\"fn\">Mirtha Michelle</span>\n"
     ]
    },
    {
     "name": "stdout",
     "output_type": "stream",
     "text": [
      "<span class=\"fn\">Greg Cipes</span>\n"
     ]
    },
    {
     "name": "stdout",
     "output_type": "stream",
     "text": [
      "<span class=\"fn\">Ron Yuan</span>\n"
     ]
    },
    {
     "name": "stdout",
     "output_type": "stream",
     "text": [
      "<span class=\"fn\">Neil Brown Jr.</span>\n"
     ]
    },
    {
     "name": "stdout",
     "output_type": "stream",
     "text": [
      "<span class=\"fn\">Brandon T. Jackson</span>\n"
     ]
    },
    {
     "name": "stdout",
     "output_type": "stream",
     "text": [
      "<span class=\"fn\">Mousa Kraish</span>\n"
     ]
    },
    {
     "name": "stdout",
     "output_type": "stream",
     "text": [
      "<span class=\"fn\">Alejandro Patino</span>\n"
     ]
    },
    {
     "name": "stdout",
     "output_type": "stream",
     "text": [
      "<caption class=\"fn\">Greg Collins</caption>\n"
     ]
    },
    {
     "name": "stdout",
     "output_type": "stream",
     "text": [
      "<span class=\"fn\">Steve Carell</span>\n"
     ]
    },
    {
     "name": "stdout",
     "output_type": "stream",
     "text": [
      "<span class=\"fn\">Tina Fey</span>\n"
     ]
    },
    {
     "name": "stdout",
     "output_type": "stream",
     "text": [
      "<span class=\"fn\">Mark Wahlberg</span>\n"
     ]
    },
    {
     "name": "stdout",
     "output_type": "stream",
     "text": [
      "<span class=\"fn\">Taraji P. Henson</span>\n"
     ]
    },
    {
     "name": "stdout",
     "output_type": "stream",
     "text": [
      "<span class=\"fn\">William Fichtner</span>\n"
     ]
    },
    {
     "name": "stdout",
     "output_type": "stream",
     "text": [
      "<span class=\"fn\">James Franco</span>\n"
     ]
    },
    {
     "name": "stdout",
     "output_type": "stream",
     "text": [
      "<span class=\"fn\">Mila Kunis</span>\n"
     ]
    },
    {
     "name": "stdout",
     "output_type": "stream",
     "text": [
      "<span class=\"fn\">Mark Ruffalo</span>\n"
     ]
    },
    {
     "name": "stdout",
     "output_type": "stream",
     "text": [
      "<span class=\"fn\">Kristen Wiig</span>\n"
     ]
    },
    {
     "name": "stdout",
     "output_type": "stream",
     "text": [
      "<span class=\"fn\">Common</span>\n"
     ]
    },
    {
     "name": "stdout",
     "output_type": "stream",
     "text": [
      "<span class=\"fn\">Jimmi Simpson</span>\n"
     ]
    },
    {
     "name": "stdout",
     "output_type": "stream",
     "text": [
      "<th class=\"fn\" colspan=\"2\" style=\"text-align:center;font-size:125%;font-weight:bold\"><span class=\"fn\">Bill Burr</span></th>\n"
     ]
    },
    {
     "name": "stdout",
     "output_type": "stream",
     "text": [
      "<span class=\"fn\">Leighton Meester</span>\n"
     ]
    },
    {
     "name": "stdout",
     "output_type": "stream",
     "text": [
      "<span class=\"fn\">Olivia Munn</span>\n"
     ]
    },
    {
     "name": "stdout",
     "output_type": "stream",
     "text": [
      "<span class=\"fn\">J. B. Smoove</span>\n"
     ]
    },
    {
     "name": "stdout",
     "output_type": "stream",
     "text": [
      "<span class=\"fn\">Michelle Galdenzi</span>\n"
     ]
    },
    {
     "name": "stdout",
     "output_type": "stream",
     "text": [
      "<span class=\"fn\">will.i.am</span>\n"
     ]
    },
    {
     "name": "stdout",
     "output_type": "stream",
     "text": [
      "<span class=\"fn\">Nick Kroll</span>\n"
     ]
    },
    {
     "name": "stdout",
     "output_type": "stream",
     "text": [
      "<span class=\"fn\">Max Charles</span>\n"
     ]
    },
    {
     "name": "stdout",
     "output_type": "stream",
     "text": [
      "<span class=\"fn\">Jon Bernthal</span>\n"
     ]
    },
    {
     "name": "stdout",
     "output_type": "stream",
     "text": [
      "<span class=\"fn\">Ray Liotta</span>\n"
     ]
    },
    {
     "name": "stdout",
     "output_type": "stream",
     "text": [
      "<span class=\"fn\">Tom Cruise</span>\n"
     ]
    },
    {
     "name": "stdout",
     "output_type": "stream",
     "text": [
      "<span class=\"fn\">Cameron Diaz</span>\n"
     ]
    },
    {
     "name": "stdout",
     "output_type": "stream",
     "text": [
      "<span class=\"fn\">Peter Sarsgaard</span>\n"
     ]
    },
    {
     "name": "stdout",
     "output_type": "stream",
     "text": [
      "<span class=\"fn\">Jordi Mollà</span>\n"
     ]
    },
    {
     "name": "stdout",
     "output_type": "stream",
     "text": [
      "<span class=\"fn\">Viola Davis</span>\n"
     ]
    },
    {
     "name": "stdout",
     "output_type": "stream",
     "text": [
      "<span class=\"fn\">Paul Dano</span>\n"
     ]
    },
    {
     "name": "stdout",
     "output_type": "stream",
     "text": [
      "<span class=\"fn\">Falk Hentschel</span>\n"
     ]
    },
    {
     "name": "stdout",
     "output_type": "stream",
     "text": [
      "<span class=\"fn\">Marc Blucas</span>\n"
     ]
    },
    {
     "name": "stdout",
     "output_type": "stream",
     "text": [
      "<span class=\"fn\">Maggie Grace</span>\n"
     ]
    },
    {
     "name": "stdout",
     "output_type": "stream",
     "text": [
      "<span class=\"fn\">Dale Dye</span>\n"
     ]
    },
    {
     "name": "stdout",
     "output_type": "stream",
     "text": [
      "<span class=\"fn\">Celia Weston</span>\n"
     ]
    },
    {
     "name": "stdout",
     "output_type": "stream",
     "text": [
      "<span class=\"fn\">Jack O'Connell</span>\n"
     ]
    },
    {
     "name": "stdout",
     "output_type": "stream",
     "text": [
      "<span class=\"fn\">Dwayne Johnson</span>\n"
     ]
    },
    {
     "name": "stdout",
     "output_type": "stream",
     "text": [
      "<span class=\"fn\">Michelle Rodriguez</span>\n"
     ]
    },
    {
     "name": "stdout",
     "output_type": "stream",
     "text": [
      "<span class=\"fn\">Tyrese  Gibson</span>\n"
     ]
    },
    {
     "name": "stdout",
     "output_type": "stream",
     "text": [
      "<span class=\"fn\">Ludacris</span>\n"
     ]
    },
    {
     "name": "stdout",
     "output_type": "stream",
     "text": [
      "<span class=\"fn\">Luke Evans</span>\n"
     ]
    },
    {
     "name": "stdout",
     "output_type": "stream",
     "text": [
      "<span class=\"fn\">Gina Carano</span>\n"
     ]
    },
    {
     "name": "stdout",
     "output_type": "stream",
     "text": [
      "<span class=\"fn\">Elsa Pataky</span>\n"
     ]
    },
    {
     "name": "stdout",
     "output_type": "stream",
     "text": [
      "<span class=\"fn\">David Ajala</span>\n"
     ]
    },
    {
     "name": "stdout",
     "output_type": "stream",
     "text": [
      "<span class=\"fn\">Benjamin Davies</span>\n"
     ]
    },
    {
     "name": "stdout",
     "output_type": "stream",
     "text": [
      "<span class=\"fn\">Rita Ora</span>\n"
     ]
    },
    {
     "name": "stdout",
     "output_type": "stream",
     "text": [
      "<span class=\"fn\">Jason Statham</span>\n"
     ]
    },
    {
     "name": "stdout",
     "output_type": "stream",
     "text": [
      "<span class=\"fn\">Oshri Cohen</span>\n"
     ]
    },
    {
     "name": "stdout",
     "output_type": "stream",
     "text": [
      "<span class=\"fn\">Eli Finish</span>\n"
     ]
    },
    {
     "name": "stdout",
     "output_type": "stream",
     "text": [
      "<span class=\"fn\">Mariano Idelman</span>\n"
     ]
    },
    {
     "name": "stdout",
     "output_type": "stream",
     "text": [
      "<span class=\"fn\">Cody Walker</span>\n"
     ]
    },
    {
     "name": "stdout",
     "output_type": "stream",
     "text": [
      "<span class=\"fn\">Djimon Hounsou</span>\n"
     ]
    },
    {
     "name": "stdout",
     "output_type": "stream",
     "text": [
      "<span class=\"fn\">Tony Jaa</span>\n"
     ]
    },
    {
     "name": "stdout",
     "output_type": "stream",
     "text": [
      "<span class=\"fn\">Ronda Rousey</span>\n"
     ]
    },
    {
     "name": "stdout",
     "output_type": "stream",
     "text": [
      "<span class=\"fn\">Nathalie Emmanuel</span>\n"
     ]
    },
    {
     "name": "stdout",
     "output_type": "stream",
     "text": [
      "<span class=\"fn\">Kurt Russell</span>\n"
     ]
    },
    {
     "name": "stdout",
     "output_type": "stream",
     "text": [
      "<span class=\"fn\">Lucas Black</span>\n"
     ]
    },
    {
     "name": "stdout",
     "output_type": "stream",
     "text": [
      "<span class=\"fn\">Noel Gugliemi</span>\n"
     ]
    },
    {
     "name": "stdout",
     "output_type": "stream",
     "text": [
      "<span class=\"fn\">John Brotherton</span>\n"
     ]
    },
    {
     "name": "stdout",
     "output_type": "stream",
     "text": [
      "<span class=\"fn\">Ali Fazal</span>\n"
     ]
    },
    {
     "name": "stdout",
     "output_type": "stream",
     "text": [
      "<div class=\"fn\" id=\"Iggy_Azalea\" style=\"font-size:114%;margin:0 4em\"><a class=\"mw-selflink selflink\">Iggy Azalea</a></div>\n"
     ]
    },
    {
     "name": "stdout",
     "output_type": "stream",
     "text": [
      "<span class=\"fn\">Shad Moss</span>\n"
     ]
    },
    {
     "name": "stdout",
     "output_type": "stream",
     "text": [
      "<span class=\"fn\">Casey Affleck</span>\n"
     ]
    },
    {
     "name": "stdout",
     "output_type": "stream",
     "text": [
      "<span class=\"fn\">Anthony Mackie</span>\n"
     ]
    },
    {
     "name": "stdout",
     "output_type": "stream",
     "text": [
      "<span class=\"fn\">Chiwetel Ejiofor</span>\n"
     ]
    },
    {
     "name": "stdout",
     "output_type": "stream",
     "text": [
      "<span class=\"fn\">Clifton Collins Jr.</span>\n"
     ]
    },
    {
     "name": "stdout",
     "output_type": "stream",
     "text": [
      "<span class=\"fn\">Woody Harrelson</span>\n"
     ]
    },
    {
     "name": "stdout",
     "output_type": "stream",
     "text": [
      "<span class=\"fn\">Aaron Paul</span>\n"
     ]
    },
    {
     "name": "stdout",
     "output_type": "stream",
     "text": [
      "<span class=\"fn\">Kate Winslet</span>\n"
     ]
    },
    {
     "name": "stdout",
     "output_type": "stream",
     "text": [
      "<span class=\"fn\">Norman Reedus</span>\n"
     ]
    },
    {
     "name": "stdout",
     "output_type": "stream",
     "text": [
      "<span class=\"fn\">Teresa Palmer</span>\n"
     ]
    },
    {
     "name": "stdout",
     "output_type": "stream",
     "text": [
      "<span class=\"fn\">Michael K. Williams</span>\n"
     ]
    },
    {
     "name": "stdout",
     "output_type": "stream",
     "text": [
      "<span class=\"fn\">Michelle Ang</span>\n"
     ]
    },
    {
     "name": "stdout",
     "output_type": "stream",
     "text": [
      "<span class=\"fn\">Luis Da Silva</span>\n"
     ]
    },
    {
     "name": "stdout",
     "output_type": "stream",
     "text": [
      "<span class=\"fn\">Kurt Yaeger</span>\n"
     ]
    },
    {
     "name": "stdout",
     "output_type": "stream",
     "text": [
      "<span class=\"fn\">Ben Affleck</span>\n"
     ]
    },
    {
     "name": "stdout",
     "output_type": "stream",
     "text": [
      "<span class=\"fn\">Kevin Costner</span>\n"
     ]
    },
    {
     "name": "stdout",
     "output_type": "stream",
     "text": [
      "<span class=\"fn\">Tommy Lee Jones</span>\n"
     ]
    },
    {
     "name": "stdout",
     "output_type": "stream",
     "text": [
      "<span class=\"fn\">Gary Oldman</span>\n"
     ]
    },
    {
     "name": "stdout",
     "output_type": "stream",
     "text": [
      "<span class=\"fn\">Ryan Reynolds</span>\n"
     ]
    },
    {
     "name": "stdout",
     "output_type": "stream",
     "text": [
      "<span class=\"fn\">Alice Eve</span>\n"
     ]
    },
    {
     "name": "stdout",
     "output_type": "stream",
     "text": [
      "<span class=\"fn\">Michael Pitt</span>\n"
     ]
    },
    {
     "name": "stdout",
     "output_type": "stream",
     "text": [
      "<span class=\"fn\">Antje Traue</span>\n"
     ]
    },
    {
     "name": "stdout",
     "output_type": "stream",
     "text": [
      "<span class=\"fn\">Scott Adkins</span>\n"
     ]
    },
    {
     "name": "stdout",
     "output_type": "stream",
     "text": [
      "<span class=\"fn\">Amaury Nolasco</span>\n"
     ]
    },
    {
     "name": "stdout",
     "output_type": "stream",
     "text": [
      "<span class=\"fn\">Colin Salmon</span>\n"
     ]
    },
    {
     "name": "stdout",
     "output_type": "stream",
     "text": [
      "<span class=\"fn\">Tommy Hatto</span>\n"
     ]
    },
    {
     "name": "stdout",
     "output_type": "stream",
     "text": [
      "<span class=\"fn\">Robert Davi</span>\n"
     ]
    },
    {
     "name": "stdout",
     "output_type": "stream",
     "text": [
      "<span class=\"fn\">Richard  Reid</span>\n"
     ]
    },
    {
     "name": "stdout",
     "output_type": "stream",
     "text": [
      "<span class=\"fn\">Natalie Burn</span>\n"
     ]
    },
    {
     "name": "stdout",
     "output_type": "stream",
     "text": [
      "<th class=\"fn\" colspan=\"2\" style=\"text-align:center;font-size:125%;font-weight:bold\"><span class=\"fn\">Zach Galifianakis</span></th>\n"
     ]
    },
    {
     "name": "stdout",
     "output_type": "stream",
     "text": [
      "<span class=\"fn\">Jon Hamm</span>\n"
     ]
    },
    {
     "name": "stdout",
     "output_type": "stream",
     "text": [
      "<span class=\"fn\">Isla Fisher</span>\n"
     ]
    },
    {
     "name": "stdout",
     "output_type": "stream",
     "text": [
      "<span class=\"fn\">Matt Walsh</span>\n"
     ]
    },
    {
     "name": "stdout",
     "output_type": "stream",
     "text": [
      "<span class=\"fn\">Maribeth Monroe</span>\n"
     ]
    },
    {
     "name": "stdout",
     "output_type": "stream",
     "text": [
      "<th class=\"fn\" colspan=\"2\" style=\"text-align:center;font-size:125%;font-weight:bold\"><span class=\"fn\">Patton Oswalt</span></th>\n"
     ]
    },
    {
     "name": "stdout",
     "output_type": "stream",
     "text": [
      "<span class=\"fn\">Kevin Dunn</span>\n"
     ]
    },
    {
     "name": "stdout",
     "output_type": "stream",
     "text": [
      "<th class=\"fn\" colspan=\"2\" style=\"text-align:center;font-size:125%;font-weight:bold\"><span class=\"fn\">Ari Shaffir</span></th>\n"
     ]
    },
    {
     "name": "stdout",
     "output_type": "stream",
     "text": [
      "<span class=\"fn\">Jona Xiao</span>\n"
     ]
    },
    {
     "name": "stdout",
     "output_type": "stream",
     "text": [
      "<th class=\"fn\" colspan=\"2\" style=\"text-align:center;font-size:125%;font-weight:bold\"><span class=\"fn\">Bobby Lee</span></th>\n"
     ]
    },
    {
     "name": "stdout",
     "output_type": "stream",
     "text": [
      "<span class=\"fn\">Henry Cavill</span>\n"
     ]
    },
    {
     "name": "stdout",
     "output_type": "stream",
     "text": [
      "<span class=\"fn\">Amy Adams</span>\n"
     ]
    },
    {
     "name": "stdout",
     "output_type": "stream",
     "text": [
      "<span class=\"fn\">Ezra Miller</span>\n"
     ]
    },
    {
     "name": "stdout",
     "output_type": "stream",
     "text": [
      "<span class=\"fn\">Jason Momoa</span>\n"
     ]
    },
    {
     "name": "stdout",
     "output_type": "stream",
     "text": [
      "<span class=\"fn\">Ray Fisher</span>\n"
     ]
    },
    {
     "name": "stdout",
     "output_type": "stream",
     "text": [
      "<span class=\"fn\">Jeremy Irons</span>\n"
     ]
    },
    {
     "name": "stdout",
     "output_type": "stream",
     "text": [
      "<span class=\"fn\">Diane Lane</span>\n"
     ]
    },
    {
     "name": "stdout",
     "output_type": "stream",
     "text": [
      "<span class=\"fn\">Connie Nielsen</span>\n"
     ]
    },
    {
     "name": "stdout",
     "output_type": "stream",
     "text": [
      "<span class=\"fn\">J. K. Simmons</span>\n"
     ]
    },
    {
     "name": "stdout",
     "output_type": "stream",
     "text": [
      "<span class=\"fn\">Ciarán Hinds</span>\n"
     ]
    },
    {
     "name": "stdout",
     "output_type": "stream",
     "text": [
      "<span class=\"fn\">John C. Reilly</span>\n"
     ]
    },
    {
     "name": "stdout",
     "output_type": "stream",
     "text": [
      "<th class=\"fn\" colspan=\"2\" style=\"text-align:center;font-size:125%;font-weight:bold\"><span class=\"fn\">Sarah Silverman</span></th>\n"
     ]
    },
    {
     "name": "stdout",
     "output_type": "stream",
     "text": [
      "<span class=\"fn\">Jack McBrayer</span>\n"
     ]
    },
    {
     "name": "stdout",
     "output_type": "stream",
     "text": [
      "<span class=\"fn\">Jane Lynch</span>\n"
     ]
    },
    {
     "name": "stdout",
     "output_type": "stream",
     "text": [
      "<span class=\"fn\">Alfred Molina</span>\n"
     ]
    },
    {
     "name": "stdout",
     "output_type": "stream",
     "text": [
      "<span class=\"fn\">Alan Tudyk</span>\n"
     ]
    },
    {
     "name": "stdout",
     "output_type": "stream",
     "text": [
      "<span class=\"fn\">Ed O'Neill</span>\n"
     ]
    },
    {
     "name": "stdout",
     "output_type": "stream",
     "text": [
      "<span class=\"fn\">Flula Borg</span>\n"
     ]
    },
    {
     "name": "stdout",
     "output_type": "stream",
     "text": [
      "<th class=\"fn\" colspan=\"2\" style=\"text-align:center;font-size:125%;font-weight:bold\"><span class=\"fn\">Hamish Blake</span></th>\n"
     ]
    },
    {
     "name": "stdout",
     "output_type": "stream",
     "text": [
      "<span class=\"fn\">Ali Wong</span>\n"
     ]
    },
    {
     "name": "stdout",
     "output_type": "stream",
     "text": [
      "<span class=\"fn\">GloZell</span>\n"
     ]
    },
    {
     "name": "stdout",
     "output_type": "stream",
     "text": [
      "<span class=\"fn\">Timothy Simons</span>\n"
     ]
    },
    {
     "name": "stdout",
     "output_type": "stream",
     "text": [
      "<span class=\"fn\">Ana Ortiz</span>\n"
     ]
    },
    {
     "name": "stdout",
     "output_type": "stream",
     "text": [
      "<span class=\"fn\">Chris Pine</span>\n"
     ]
    },
    {
     "name": "stdout",
     "output_type": "stream",
     "text": [
      "<span class=\"fn\">Robin Wright</span>\n"
     ]
    }
   ],
   "source": [
    "#find dups cast members and save count\n",
    "castCount=dict() #for Question 3 - number of films with gal gadot\n",
    "for castMember in castLinks:\n",
    "    if castMember!=\"/wiki/Gal_Gadot\":\n",
    "        if castMember in castCount:\n",
    "            castCount[castMember]+=1\n",
    "        else:\n",
    "            castCount[castMember]=1\n",
    "print(len(castCount.values()))\n",
    "for actorLink in castCount.keys():\n",
    "    try:\n",
    "        actorPage = urlopen(\"https://en.wikipedia.org\" + actorLink)\n",
    "        co_actor_soup = BeautifulSoup(actorPage, \"lxml\")\n",
    "        name = co_actor_soup.find(class_=\"fn\")                 \n",
    "        bday = co_actor_soup.find(class_=\"bday\")     \n",
    "    except:\n",
    "        continue\n",
    "    print(name.get)\n",
    "    birth_country = None\n",
    "    birth_year = None\n",
    "    awards = 0\n",
    "\n",
    "\n",
    "\n",
    "\n",
    "\n",
    "\n",
    "\n"
   ]
  },
  {
   "cell_type": "code",
   "execution_count": null,
   "metadata": {},
   "outputs": [],
   "source": []
  },
  {
   "cell_type": "code",
   "execution_count": 43,
   "metadata": {},
   "outputs": [],
   "source": []
  },
  {
   "cell_type": "code",
   "execution_count": 43,
   "metadata": {},
   "outputs": [],
   "source": []
  },
  {
   "cell_type": "code",
   "execution_count": null,
   "metadata": {},
   "outputs": [],
   "source": []
  }
 ],
 "metadata": {
  "kernelspec": {
   "display_name": "Python 2",
   "language": "python",
   "name": "python2"
  },
  "language_info": {
   "codemirror_mode": {
    "name": "ipython",
    "version": 2
   },
   "file_extension": ".py",
   "mimetype": "text/x-python",
   "name": "python",
   "nbconvert_exporter": "python",
   "pygments_lexer": "ipython2",
   "version": "2.7.6"
  }
 },
 "nbformat": 4,
 "nbformat_minor": 0
}
