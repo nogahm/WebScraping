{
 "cells": [
  {
   "cell_type": "code",
   "execution_count": 1,
   "metadata": {
    "collapsed": true
   },
   "outputs": [],
   "source": [
    "#import the library used to query a website\n",
    "from urllib.request import urlopen\n",
    "#specify the url\n",
    "wiki = \"https://en.wikipedia.org/wiki/Gal_Gadot\"\n",
    "#Query the website and return the html to the variable 'page'\n",
    "page = urlopen(wiki)\n",
    "#import the Beautiful soup functions to parse the data returned from the website\n",
    "from bs4 import BeautifulSoup\n",
    "#Parse the html in the 'page' variable, and store it in Beautiful Soup format\n",
    "soup = BeautifulSoup(page, \"lxml\")"
   ]
  },
  {
   "cell_type": "code",
   "execution_count": 2,
   "metadata": {
    "collapsed": true
   },
   "outputs": [],
   "source": [
    "# find films table\n",
    "right_table=soup.find('table', class_='wikitable sortable')"
   ]
  },
  {
   "cell_type": "markdown",
   "metadata": {},
   "source": [
    "Question 1:"
   ]
  },
  {
   "cell_type": "code",
   "execution_count": 3,
   "metadata": {
    "collapsed": false
   },
   "outputs": [],
   "source": [
    "import re\n",
    "#Generate lists\n",
    "A=[]\n",
    "B=[]\n",
    "C=[]\n",
    "D=[]\n",
    "moviesLinks=[] #for Question2\n",
    "year=''\n",
    "role=''\n",
    "yearIndex=-1\n",
    "roleIndex=-1\n",
    "\n",
    "for row in right_table.findAll(\"tr\"):\n",
    "    cells = row.findAll('td')\n",
    "    #all cells\n",
    "    if len(cells)==5:\n",
    "        A.append(cells[0].find(text=True))\n",
    "        B.append(cells[1].find(text=True))\n",
    "        C.append(cells[2].find(text=True))\n",
    "        D.append(cells[3].find(text=True))\n",
    "        #check rowspan\n",
    "        if cells[0].has_attr('rowspan'):\n",
    "            year=cells[0].find(text=True)\n",
    "            yearIndex=int(cells[0].attrs['rowspan'])-1\n",
    "        if cells[2].has_attr('rowspan'):\n",
    "            role=cells[2].find(text=True)\n",
    "            roleIndex=int(cells[2].attrs['rowspan'])-1\n",
    "        #save link to movie page\n",
    "        a = cells[1].find_all('a')\n",
    "        if len(a)>0:\n",
    "            moviesLinks.append(a[0].get('href'))\n",
    "    #year or role not exist\n",
    "    if len(cells)==4:\n",
    "        #no year\n",
    "        if yearIndex>0:\n",
    "            A.append(year)\n",
    "            yearIndex=yearIndex-1\n",
    "            B.append(cells[0].find(text=True))\n",
    "            C.append(cells[1].find(text=True))\n",
    "            D.append(cells[2].find(text=True))\n",
    "            #check role rowspan\n",
    "            if cells[1].has_attr('rowspan'):\n",
    "                role=cells[1].find(text=True)\n",
    "                roleIndex=int(cells[1].attrs['rowspan'])-1\n",
    "            #save link to movie page\n",
    "            a = cells[0].find_all('a')\n",
    "            if len(a)>0:\n",
    "                moviesLinks.append(a[0].get('href'))\n",
    "        if roleIndex>0:\n",
    "            A.append(cells[0].find(text=True))\n",
    "            B.append(cells[1].find(text=True))\n",
    "            C.append(role)\n",
    "            D.append(cells[2].find(text=True))\n",
    "            roleIndex=roleIndex-1\n",
    "            #check year rowspan\n",
    "            if cells[0].has_attr('rowspan'):\n",
    "                year=cells[0].find(text=True)\n",
    "                yearIndex=int(cells[0].attrs['rowspan'])-1\n",
    "            #save link to movie page\n",
    "            a = cells[1].find_all('a')\n",
    "            if len(a)>0:\n",
    "                moviesLinks.append(a[0].get('href'))\n",
    "    #year and role not in row\n",
    "    if len(cells)==3:\n",
    "        A.append(year)\n",
    "        B.append(cells[0].find(text=True))\n",
    "        C.append(role)\n",
    "        D.append(cells[1].find(text=True))\n",
    "        yearIndex=yearIndex-1\n",
    "        roleIndex=roleIndex-1\n",
    "        #save link to movie page\n",
    "        a = cells[0].find_all('a')\n",
    "        if len(a)>0:\n",
    "            moviesLinks.append(a[0].get('href'))"
   ]
  },
  {
   "cell_type": "code",
   "execution_count": 5,
   "metadata": {
    "collapsed": false
   },
   "outputs": [
    {
     "data": {
      "text/html": [
       "<div>\n",
       "<style scoped>\n",
       "    .dataframe tbody tr th:only-of-type {\n",
       "        vertical-align: middle;\n",
       "    }\n",
       "\n",
       "    .dataframe tbody tr th {\n",
       "        vertical-align: top;\n",
       "    }\n",
       "\n",
       "    .dataframe thead th {\n",
       "        text-align: right;\n",
       "    }\n",
       "</style>\n",
       "<table border=\"1\" class=\"dataframe\">\n",
       "  <thead>\n",
       "    <tr style=\"text-align: right;\">\n",
       "      <th></th>\n",
       "      <th>Year</th>\n",
       "      <th>Title</th>\n",
       "      <th>Role</th>\n",
       "      <th>Director(s)</th>\n",
       "    </tr>\n",
       "  </thead>\n",
       "  <tbody>\n",
       "    <tr>\n",
       "      <th>0</th>\n",
       "      <td>2009</td>\n",
       "      <td>Fast &amp; Furious</td>\n",
       "      <td>Gisele Yashar</td>\n",
       "      <td>Justin Lin</td>\n",
       "    </tr>\n",
       "    <tr>\n",
       "      <th>1</th>\n",
       "      <td>2010</td>\n",
       "      <td>Date Night</td>\n",
       "      <td>Natanya</td>\n",
       "      <td>Shawn Levy</td>\n",
       "    </tr>\n",
       "    <tr>\n",
       "      <th>2</th>\n",
       "      <td>2010</td>\n",
       "      <td>Knight and Day</td>\n",
       "      <td>Naomi</td>\n",
       "      <td>James Mangold</td>\n",
       "    </tr>\n",
       "    <tr>\n",
       "      <th>3</th>\n",
       "      <td>2011</td>\n",
       "      <td>Fast Five</td>\n",
       "      <td>Gisele Yashar</td>\n",
       "      <td>Justin Lin</td>\n",
       "    </tr>\n",
       "    <tr>\n",
       "      <th>4</th>\n",
       "      <td>2013</td>\n",
       "      <td>Fast &amp; Furious 6</td>\n",
       "      <td>Gisele Yashar</td>\n",
       "      <td>Justin Lin</td>\n",
       "    </tr>\n",
       "    <tr>\n",
       "      <th>5</th>\n",
       "      <td>2014</td>\n",
       "      <td>Kicking Out Shoshana</td>\n",
       "      <td>Mirit Ben Harush</td>\n",
       "      <td>Shay Kanot</td>\n",
       "    </tr>\n",
       "    <tr>\n",
       "      <th>6</th>\n",
       "      <td>2015</td>\n",
       "      <td>Furious 7</td>\n",
       "      <td>Gisele Yashar</td>\n",
       "      <td>James Wan</td>\n",
       "    </tr>\n",
       "    <tr>\n",
       "      <th>7</th>\n",
       "      <td>2016</td>\n",
       "      <td>Triple 9</td>\n",
       "      <td>Elena Vlaslov</td>\n",
       "      <td>John Hillcoat</td>\n",
       "    </tr>\n",
       "    <tr>\n",
       "      <th>8</th>\n",
       "      <td>2016</td>\n",
       "      <td>Batman v Superman: Dawn of Justice</td>\n",
       "      <td>Diana Prince</td>\n",
       "      <td>Zack Snyder</td>\n",
       "    </tr>\n",
       "    <tr>\n",
       "      <th>9</th>\n",
       "      <td>2016</td>\n",
       "      <td>Criminal</td>\n",
       "      <td>Jill Pope</td>\n",
       "      <td>Ariel Vromen</td>\n",
       "    </tr>\n",
       "    <tr>\n",
       "      <th>10</th>\n",
       "      <td>2016</td>\n",
       "      <td>Keeping Up with the Joneses</td>\n",
       "      <td>Natalie Jones</td>\n",
       "      <td>Greg Mottola</td>\n",
       "    </tr>\n",
       "    <tr>\n",
       "      <th>11</th>\n",
       "      <td>2017</td>\n",
       "      <td>Wonder Woman</td>\n",
       "      <td>Diana Prince / Wonder Woman</td>\n",
       "      <td>Patty Jenkins</td>\n",
       "    </tr>\n",
       "    <tr>\n",
       "      <th>12</th>\n",
       "      <td>2017</td>\n",
       "      <td>Justice League</td>\n",
       "      <td>Diana Prince / Wonder Woman</td>\n",
       "      <td>Zack Snyder</td>\n",
       "    </tr>\n",
       "    <tr>\n",
       "      <th>13</th>\n",
       "      <td>2018</td>\n",
       "      <td>Ralph Breaks the Internet</td>\n",
       "      <td>Shank (voice)</td>\n",
       "      <td>Rich Moore</td>\n",
       "    </tr>\n",
       "    <tr>\n",
       "      <th>14</th>\n",
       "      <td>2020</td>\n",
       "      <td>Wonder Woman 1984</td>\n",
       "      <td>Diana Prince / Wonder Woman</td>\n",
       "      <td>Patty Jenkins</td>\n",
       "    </tr>\n",
       "    <tr>\n",
       "      <th>15</th>\n",
       "      <td>2020</td>\n",
       "      <td>Red Notice</td>\n",
       "      <td>TBA</td>\n",
       "      <td>Rawson Marshall Thurber</td>\n",
       "    </tr>\n",
       "    <tr>\n",
       "      <th>16</th>\n",
       "      <td>2020</td>\n",
       "      <td>Death on the Nile</td>\n",
       "      <td>Linnet Ridgeway Doyle</td>\n",
       "      <td>Kenneth Branagh</td>\n",
       "    </tr>\n",
       "    <tr>\n",
       "      <th>17</th>\n",
       "      <td>TBA</td>\n",
       "      <td>My Dear Fidel</td>\n",
       "      <td>None</td>\n",
       "      <td>TBA</td>\n",
       "    </tr>\n",
       "  </tbody>\n",
       "</table>\n",
       "</div>"
      ],
      "text/plain": [
       "<div>\n",
       "<style scoped>\n",
       "    .dataframe tbody tr th:only-of-type {\n",
       "        vertical-align: middle;\n",
       "    }\n",
       "\n",
       "    .dataframe tbody tr th {\n",
       "        vertical-align: top;\n",
       "    }\n",
       "\n",
       "    .dataframe thead th {\n",
       "        text-align: right;\n",
       "    }\n",
       "</style>\n",
       "<table border=\"1\" class=\"dataframe\">\n",
       "  <thead>\n",
       "    <tr style=\"text-align: right;\">\n",
       "      <th></th>\n",
       "      <th>Year</th>\n",
       "      <th>Title</th>\n",
       "      <th>Role</th>\n",
       "      <th>Director(s)</th>\n",
       "    </tr>\n",
       "  </thead>\n",
       "  <tbody>\n",
       "    <tr>\n",
       "      <th>0</th>\n",
       "      <td>2009</td>\n",
       "      <td>Fast &amp; Furious</td>\n",
       "      <td>Gisele Yashar</td>\n",
       "      <td>Justin Lin</td>\n",
       "    </tr>\n",
       "    <tr>\n",
       "      <th>1</th>\n",
       "      <td>2010</td>\n",
       "      <td>Date Night</td>\n",
       "      <td>Natanya</td>\n",
       "      <td>Shawn Levy</td>\n",
       "    </tr>\n",
       "    <tr>\n",
       "      <th>2</th>\n",
       "      <td>2010</td>\n",
       "      <td>Knight and Day</td>\n",
       "      <td>Naomi</td>\n",
       "      <td>James Mangold</td>\n",
       "    </tr>\n",
       "    <tr>\n",
       "      <th>3</th>\n",
       "      <td>2011</td>\n",
       "      <td>Fast Five</td>\n",
       "      <td>Gisele Yashar</td>\n",
       "      <td>Justin Lin</td>\n",
       "    </tr>\n",
       "    <tr>\n",
       "      <th>4</th>\n",
       "      <td>2013</td>\n",
       "      <td>Fast &amp; Furious 6</td>\n",
       "      <td>Gisele Yashar</td>\n",
       "      <td>Justin Lin</td>\n",
       "    </tr>\n",
       "    <tr>\n",
       "      <th>5</th>\n",
       "      <td>2014</td>\n",
       "      <td>Kicking Out Shoshana</td>\n",
       "      <td>Mirit Ben Harush</td>\n",
       "      <td>Shay Kanot</td>\n",
       "    </tr>\n",
       "    <tr>\n",
       "      <th>6</th>\n",
       "      <td>2015</td>\n",
       "      <td>Furious 7</td>\n",
       "      <td>Gisele Yashar</td>\n",
       "      <td>James Wan</td>\n",
       "    </tr>\n",
       "    <tr>\n",
       "      <th>7</th>\n",
       "      <td>2016</td>\n",
       "      <td>Triple 9</td>\n",
       "      <td>Elena Vlaslov</td>\n",
       "      <td>John Hillcoat</td>\n",
       "    </tr>\n",
       "    <tr>\n",
       "      <th>8</th>\n",
       "      <td>2016</td>\n",
       "      <td>Batman v Superman: Dawn of Justice</td>\n",
       "      <td>Diana Prince</td>\n",
       "      <td>Zack Snyder</td>\n",
       "    </tr>\n",
       "    <tr>\n",
       "      <th>9</th>\n",
       "      <td>2016</td>\n",
       "      <td>Criminal</td>\n",
       "      <td>Jill Pope</td>\n",
       "      <td>Ariel Vromen</td>\n",
       "    </tr>\n",
       "    <tr>\n",
       "      <th>10</th>\n",
       "      <td>2016</td>\n",
       "      <td>Keeping Up with the Joneses</td>\n",
       "      <td>Natalie Jones</td>\n",
       "      <td>Greg Mottola</td>\n",
       "    </tr>\n",
       "    <tr>\n",
       "      <th>11</th>\n",
       "      <td>2017</td>\n",
       "      <td>Wonder Woman</td>\n",
       "      <td>Diana Prince / Wonder Woman</td>\n",
       "      <td>Patty Jenkins</td>\n",
       "    </tr>\n",
       "    <tr>\n",
       "      <th>12</th>\n",
       "      <td>2017</td>\n",
       "      <td>Justice League</td>\n",
       "      <td>Diana Prince / Wonder Woman</td>\n",
       "      <td>Zack Snyder</td>\n",
       "    </tr>\n",
       "    <tr>\n",
       "      <th>13</th>\n",
       "      <td>2018</td>\n",
       "      <td>Ralph Breaks the Internet</td>\n",
       "      <td>Shank (voice)</td>\n",
       "      <td>Rich Moore</td>\n",
       "    </tr>\n",
       "    <tr>\n",
       "      <th>14</th>\n",
       "      <td>2020</td>\n",
       "      <td>Wonder Woman 1984</td>\n",
       "      <td>Diana Prince / Wonder Woman</td>\n",
       "      <td>Patty Jenkins</td>\n",
       "    </tr>\n",
       "    <tr>\n",
       "      <th>15</th>\n",
       "      <td>2020</td>\n",
       "      <td>Red Notice</td>\n",
       "      <td>TBA</td>\n",
       "      <td>Rawson Marshall Thurber</td>\n",
       "    </tr>\n",
       "    <tr>\n",
       "      <th>16</th>\n",
       "      <td>2020</td>\n",
       "      <td>Death on the Nile</td>\n",
       "      <td>Linnet Ridgeway Doyle</td>\n",
       "      <td>Kenneth Branagh</td>\n",
       "    </tr>\n",
       "    <tr>\n",
       "      <th>17</th>\n",
       "      <td>TBA</td>\n",
       "      <td>My Dear Fidel</td>\n",
       "      <td>None</td>\n",
       "      <td>TBA</td>\n",
       "    </tr>\n",
       "  </tbody>\n",
       "</table>\n",
       "</div>"
      ]
     },
     "execution_count": 5,
     "metadata": {},
     "output_type": "execute_result"
    }
   ],
   "source": [
    "#import pandas and convert list to data frame\n",
    "import pandas as pd\n",
    "df=pd.DataFrame()\n",
    "df['Year']=A\n",
    "df['Title']=B\n",
    "df['Role']=C\n",
    "df['Director(s)']=D\n",
    "df"
   ]
  },
  {
   "cell_type": "markdown",
   "metadata": {},
   "source": [
    "Question 2:"
   ]
  },
  {
   "cell_type": "code",
   "execution_count": 6,
   "metadata": {
    "collapsed": true
   },
   "outputs": [
    {
     "name": "stdout",
     "output_type": "stream",
     "text": [
      "220\n"
     ]
    }
   ],
   "source": [
    "#find all cast\n",
    "castLinks=[]\n",
    "#collect all cast members links\n",
    "for link in moviesLinks:\n",
    "    moviePage = urlopen(\"https://en.wikipedia.org\"+link)\n",
    "    movieSoup = BeautifulSoup(moviePage, \"lxml\")\n",
    "    if(movieSoup.find(id=\"Cast\")):\n",
    "        cast=(movieSoup.find(id=\"Cast\").parent).find_next('ul')\n",
    "    if(movieSoup.find(id=\"Voice_cast\")):\n",
    "        cast=(movieSoup.find(id=\"Voice_cast\").parent).find_next('ul')\n",
    "    lines = cast.find_all('li')\n",
    "    #cast members in different ul\n",
    "    uls=False\n",
    "    while (len(lines)==1) and  (cast.find_next('ul')):\n",
    "        uls=True\n",
    "        for line in lines:\n",
    "            a = line.find_all('a')\n",
    "            if len(a)>0:\n",
    "                castLinks.append(a[0].get('href'))\n",
    "        cast=cast.find_next('ul')\n",
    "        lines = cast.find_all('li')\n",
    "    #regular\n",
    "    if uls==False:\n",
    "        for line in lines:\n",
    "            a = line.find_all('a')\n",
    "            if len(a)>0:\n",
    "                castLinks.append(a[0].get('href'))\n",
    "# print(castLinks)\n",
    "print(len(castLinks))"
   ]
  },
  {
   "cell_type": "markdown",
   "metadata": {},
   "source": [
    "Question 3:"
   ]
  },
  {
   "cell_type": "code",
   "execution_count": 46,
   "metadata": {
    "collapsed": true
   },
   "outputs": [
    {
     "name": "stdout",
     "output_type": "stream",
     "text": [
      "name prob /wiki/Vin_Diesel\n"
     ]
    },
    {
     "name": "stdout",
     "output_type": "stream",
     "text": [
      "name prob /wiki/Paul_Walker\n"
     ]
    },
    {
     "name": "stdout",
     "output_type": "stream",
     "text": [
      "name prob /wiki/Michelle_Rodr%C3%ADguez\n"
     ]
    },
    {
     "name": "stdout",
     "output_type": "stream",
     "text": [
      "name prob /wiki/Jordana_Brewster\n"
     ]
    },
    {
     "name": "stdout",
     "output_type": "stream",
     "text": [
      "name prob /wiki/John_Ortiz\n"
     ]
    },
    {
     "name": "stdout",
     "output_type": "stream",
     "text": [
      "name prob /wiki/Laz_Alonso\n"
     ]
    },
    {
     "name": "stdout",
     "output_type": "stream",
     "text": [
      "name prob /wiki/Jack_Conley_(actor)\n"
     ]
    },
    {
     "name": "stdout",
     "output_type": "stream",
     "text": [
      "name prob /wiki/Shea_Whigham\n"
     ]
    },
    {
     "name": "stdout",
     "output_type": "stream",
     "text": [
      "name prob /wiki/Sung_Kang\n"
     ]
    },
    {
     "name": "stdout",
     "output_type": "stream",
     "text": [
      "name prob /wiki/Liza_Lapira\n"
     ]
    },
    {
     "name": "stdout",
     "output_type": "stream",
     "text": [
      "name prob /wiki/Mirtha_Michelle\n"
     ]
    },
    {
     "name": "stdout",
     "output_type": "stream",
     "text": [
      "name prob /wiki/Greg_Cipes\n"
     ]
    },
    {
     "name": "stdout",
     "output_type": "stream",
     "text": [
      "name prob /wiki/Ron_Yuan\n"
     ]
    },
    {
     "name": "stdout",
     "output_type": "stream",
     "text": [
      "name prob /wiki/Neil_Brown_Jr.\n"
     ]
    },
    {
     "name": "stdout",
     "output_type": "stream",
     "text": [
      "name prob /wiki/Brandon_T._Jackson\n"
     ]
    },
    {
     "name": "stdout",
     "output_type": "stream",
     "text": [
      "name prob /wiki/Mousa_Kraish\n"
     ]
    },
    {
     "name": "stdout",
     "output_type": "stream",
     "text": [
      "name prob /wiki/Alejandro_Patino\n"
     ]
    },
    {
     "name": "stdout",
     "output_type": "stream",
     "text": [
      "name prob /wiki/Greg_Collins_(American_football)\n"
     ]
    },
    {
     "name": "stdout",
     "output_type": "stream",
     "text": [
      "name prob /wiki/Steve_Carell\n"
     ]
    },
    {
     "name": "stdout",
     "output_type": "stream",
     "text": [
      "name prob /wiki/Tina_Fey\n"
     ]
    },
    {
     "name": "stdout",
     "output_type": "stream",
     "text": [
      "name prob /wiki/Mark_Wahlberg\n"
     ]
    },
    {
     "name": "stdout",
     "output_type": "stream",
     "text": [
      "name prob /wiki/Taraji_P._Henson\n"
     ]
    },
    {
     "name": "stdout",
     "output_type": "stream",
     "text": [
      "name prob /wiki/William_Fichtner\n"
     ]
    },
    {
     "name": "stdout",
     "output_type": "stream",
     "text": [
      "name prob /wiki/James_Franco\n"
     ]
    },
    {
     "name": "stdout",
     "output_type": "stream",
     "text": [
      "name prob /wiki/Mila_Kunis\n"
     ]
    },
    {
     "name": "stdout",
     "output_type": "stream",
     "text": [
      "name prob /wiki/Mark_Ruffalo\n"
     ]
    },
    {
     "name": "stdout",
     "output_type": "stream",
     "text": [
      "name prob /wiki/Kristen_Wiig\n"
     ]
    },
    {
     "name": "stdout",
     "output_type": "stream",
     "text": [
      "name prob /wiki/Jimmi_Simpson\n"
     ]
    },
    {
     "name": "stdout",
     "output_type": "stream",
     "text": [
      "name prob /wiki/Bill_Burr\n"
     ]
    },
    {
     "name": "stdout",
     "output_type": "stream",
     "text": [
      "name prob /wiki/Leighton_Meester\n"
     ]
    },
    {
     "name": "stdout",
     "output_type": "stream",
     "text": [
      "name prob /wiki/Olivia_Munn\n"
     ]
    },
    {
     "name": "stdout",
     "output_type": "stream",
     "text": [
      "name prob /wiki/J._B._Smoove\n"
     ]
    },
    {
     "name": "stdout",
     "output_type": "stream",
     "text": [
      "name prob /wiki/Michelle_Galdenzi\n"
     ]
    },
    {
     "name": "stdout",
     "output_type": "stream",
     "text": [
      "name prob /wiki/Nick_Kroll\n"
     ]
    },
    {
     "name": "stdout",
     "output_type": "stream",
     "text": [
      "name prob /wiki/Max_Charles\n"
     ]
    },
    {
     "name": "stdout",
     "output_type": "stream",
     "text": [
      "name prob /wiki/Jon_Bernthal\n"
     ]
    },
    {
     "name": "stdout",
     "output_type": "stream",
     "text": [
      "name prob /wiki/Ray_Liotta\n"
     ]
    },
    {
     "name": "stdout",
     "output_type": "stream",
     "text": [
      "name prob /wiki/Tom_Cruise\n"
     ]
    },
    {
     "name": "stdout",
     "output_type": "stream",
     "text": [
      "name prob /wiki/Cameron_Diaz\n"
     ]
    },
    {
     "name": "stdout",
     "output_type": "stream",
     "text": [
      "name prob /wiki/Peter_Sarsgaard\n"
     ]
    },
    {
     "name": "stdout",
     "output_type": "stream",
     "text": [
      "name prob /wiki/Jordi_Moll%C3%A0\n"
     ]
    },
    {
     "name": "stdout",
     "output_type": "stream",
     "text": [
      "name prob /wiki/Viola_Davis\n"
     ]
    },
    {
     "name": "stdout",
     "output_type": "stream",
     "text": [
      "name prob /wiki/Paul_Dano\n"
     ]
    },
    {
     "name": "stdout",
     "output_type": "stream",
     "text": [
      "name prob /wiki/Falk_Hentschel\n"
     ]
    },
    {
     "name": "stdout",
     "output_type": "stream",
     "text": [
      "name prob /wiki/Marc_Blucas\n"
     ]
    },
    {
     "name": "stdout",
     "output_type": "stream",
     "text": [
      "name prob /wiki/Maggie_Grace\n"
     ]
    },
    {
     "name": "stdout",
     "output_type": "stream",
     "text": [
      "name prob /wiki/Dale_Dye\n"
     ]
    },
    {
     "name": "stdout",
     "output_type": "stream",
     "text": [
      "name prob /wiki/Celia_Weston\n"
     ]
    },
    {
     "name": "stdout",
     "output_type": "stream",
     "text": [
      "name prob /wiki/Jack_O%27Connell_(actor)\n"
     ]
    },
    {
     "name": "stdout",
     "output_type": "stream",
     "text": [
      "name prob /wiki/Vin_Diesel\n"
     ]
    },
    {
     "name": "stdout",
     "output_type": "stream",
     "text": [
      "name prob /wiki/Paul_Walker\n"
     ]
    },
    {
     "name": "stdout",
     "output_type": "stream",
     "text": [
      "name prob /wiki/Jordana_Brewster\n"
     ]
    },
    {
     "name": "stdout",
     "output_type": "stream",
     "text": [
      "name prob /wiki/Ludacris\n"
     ]
    },
    {
     "name": "stdout",
     "output_type": "stream",
     "text": [
      "name prob /wiki/Matt_Schulze\n"
     ]
    },
    {
     "name": "stdout",
     "output_type": "stream",
     "text": [
      "name prob /wiki/Sung_Kang\n"
     ]
    },
    {
     "name": "stdout",
     "output_type": "stream",
     "text": [
      "name prob /wiki/Dwayne_Johnson\n"
     ]
    },
    {
     "name": "stdout",
     "output_type": "stream",
     "text": [
      "name prob /wiki/Joaquim_de_Almeida\n"
     ]
    },
    {
     "name": "stdout",
     "output_type": "stream",
     "text": [
      "name prob /wiki/Elsa_Pataky\n"
     ]
    },
    {
     "name": "stdout",
     "output_type": "stream",
     "text": [
      "name prob /wiki/Vin_Diesel\n"
     ]
    },
    {
     "name": "stdout",
     "output_type": "stream",
     "text": [
      "name prob /wiki/Paul_Walker\n"
     ]
    },
    {
     "name": "stdout",
     "output_type": "stream",
     "text": [
      "name prob /wiki/Dwayne_Johnson\n"
     ]
    },
    {
     "name": "stdout",
     "output_type": "stream",
     "text": [
      "name prob /wiki/Michelle_Rodriguez\n"
     ]
    },
    {
     "name": "stdout",
     "output_type": "stream",
     "text": [
      "name prob /wiki/Jordana_Brewster\n"
     ]
    },
    {
     "name": "stdout",
     "output_type": "stream",
     "text": [
      "name prob /wiki/Ludacris\n"
     ]
    },
    {
     "name": "stdout",
     "output_type": "stream",
     "text": [
      "name prob /wiki/Sung_Kang\n"
     ]
    },
    {
     "name": "stdout",
     "output_type": "stream",
     "text": [
      "name prob /wiki/Luke_Evans_(actor)\n"
     ]
    },
    {
     "name": "stdout",
     "output_type": "stream",
     "text": [
      "name prob /wiki/Gina_Carano\n"
     ]
    },
    {
     "name": "stdout",
     "output_type": "stream",
     "text": [
      "name prob /wiki/John_Ortiz\n"
     ]
    },
    {
     "name": "stdout",
     "output_type": "stream",
     "text": [
      "name prob /wiki/Shea_Whigham\n"
     ]
    },
    {
     "name": "stdout",
     "output_type": "stream",
     "text": [
      "name prob /wiki/Elsa_Pataky\n"
     ]
    },
    {
     "name": "stdout",
     "output_type": "stream",
     "text": [
      "name prob /wiki/David_Ajala\n"
     ]
    },
    {
     "name": "stdout",
     "output_type": "stream",
     "text": [
      "name prob /wiki/Kim_Kold\n"
     ]
    },
    {
     "name": "stdout",
     "output_type": "stream",
     "text": [
      "name prob /wiki/Thure_Lindhardt\n"
     ]
    },
    {
     "name": "stdout",
     "output_type": "stream",
     "text": [
      "name prob /wiki/Joe_Taslim\n"
     ]
    },
    {
     "name": "stdout",
     "output_type": "stream",
     "text": [
      "name prob /wiki/Clara_Paget\n"
     ]
    },
    {
     "name": "stdout",
     "output_type": "stream",
     "text": [
      "name prob /wiki/Benjamin_Davies_(actor)\n"
     ]
    },
    {
     "name": "stdout",
     "output_type": "stream",
     "text": [
      "name prob /wiki/Jason_Statham\n"
     ]
    },
    {
     "name": "stdout",
     "output_type": "stream",
     "text": [
      "name prob /wiki/Oshri_Cohen\n"
     ]
    },
    {
     "name": "stdout",
     "output_type": "stream",
     "text": [
      "name prob /wiki/Eli_Finish\n"
     ]
    },
    {
     "name": "stdout",
     "output_type": "stream",
     "text": [
      "name prob /wiki/Mariano_Idelman\n"
     ]
    },
    {
     "name": "stdout",
     "output_type": "stream",
     "text": [
      "name prob /wiki/Vin_Diesel\n"
     ]
    },
    {
     "name": "stdout",
     "output_type": "stream",
     "text": [
      "name prob /wiki/Paul_Walker\n"
     ]
    },
    {
     "name": "stdout",
     "output_type": "stream",
     "text": [
      "name prob /wiki/Cody_Walker_(actor)\n"
     ]
    },
    {
     "name": "stdout",
     "output_type": "stream",
     "text": [
      "name prob /wiki/Dwayne_Johnson\n"
     ]
    },
    {
     "name": "stdout",
     "output_type": "stream",
     "text": [
      "name prob /wiki/Michelle_Rodriguez\n"
     ]
    },
    {
     "name": "stdout",
     "output_type": "stream",
     "text": [
      "name prob /wiki/Ludacris\n"
     ]
    },
    {
     "name": "stdout",
     "output_type": "stream",
     "text": [
      "name prob /wiki/Jordana_Brewster\n"
     ]
    },
    {
     "name": "stdout",
     "output_type": "stream",
     "text": [
      "name prob /wiki/Djimon_Hounsou\n"
     ]
    },
    {
     "name": "stdout",
     "output_type": "stream",
     "text": [
      "name prob /wiki/Tony_Jaa\n"
     ]
    },
    {
     "name": "stdout",
     "output_type": "stream",
     "text": [
      "name prob /wiki/Ronda_Rousey\n"
     ]
    },
    {
     "name": "stdout",
     "output_type": "stream",
     "text": [
      "name prob /wiki/Nathalie_Emmanuel\n"
     ]
    },
    {
     "name": "stdout",
     "output_type": "stream",
     "text": [
      "name prob /wiki/Kurt_Russell\n"
     ]
    },
    {
     "name": "stdout",
     "output_type": "stream",
     "text": [
      "name prob /wiki/Jason_Statham\n"
     ]
    },
    {
     "name": "stdout",
     "output_type": "stream",
     "text": [
      "name prob /wiki/Sung_Kang\n"
     ]
    },
    {
     "name": "stdout",
     "output_type": "stream",
     "text": [
      "name prob /wiki/Lucas_Black\n"
     ]
    },
    {
     "name": "stdout",
     "output_type": "stream",
     "text": [
      "name prob /wiki/Elsa_Pataky\n"
     ]
    },
    {
     "name": "stdout",
     "output_type": "stream",
     "text": [
      "name prob /wiki/Noel_Gugliemi\n"
     ]
    },
    {
     "name": "stdout",
     "output_type": "stream",
     "text": [
      "name prob /wiki/John_Brotherton\n"
     ]
    },
    {
     "name": "stdout",
     "output_type": "stream",
     "text": [
      "name prob /wiki/Ali_Fazal\n"
     ]
    },
    {
     "name": "stdout",
     "output_type": "stream",
     "text": [
      "name prob /wiki/Luke_Evans_(actor)\n"
     ]
    },
    {
     "name": "stdout",
     "output_type": "stream",
     "text": [
      "/wiki/Iggy_Azalea name prob\n"
     ]
    },
    {
     "ename": "AttributeError",
     "evalue": "'NoneType' object has no attribute 'text'",
     "traceback": [
      "\u001b[1;31m---------------------------------------------------------------------------\u001b[0m",
      "\u001b[1;31mAttributeError\u001b[0m                            Traceback (most recent call last)",
      "\u001b[1;32m<ipython-input-46-8ff7c7c6bbe4>\u001b[0m in \u001b[0;36m<module>\u001b[1;34m()\u001b[0m\n\u001b[0;32m     45\u001b[0m         \u001b[1;32mexcept\u001b[0m\u001b[1;33m:\u001b[0m\u001b[1;33m\u001b[0m\u001b[0m\n\u001b[0;32m     46\u001b[0m             \u001b[0mprint\u001b[0m\u001b[1;33m(\u001b[0m\u001b[0mcastMember\u001b[0m \u001b[1;33m+\u001b[0m\u001b[1;34m\" name prob\"\u001b[0m\u001b[1;33m)\u001b[0m\u001b[1;33m\u001b[0m\u001b[0m\n\u001b[1;32m---> 47\u001b[1;33m         \u001b[1;32mif\u001b[0m \u001b[0mname\u001b[0m\u001b[1;33m.\u001b[0m\u001b[0mtext\u001b[0m \u001b[1;32min\u001b[0m \u001b[0mcastCount\u001b[0m\u001b[1;33m.\u001b[0m\u001b[0mkeys\u001b[0m\u001b[1;33m(\u001b[0m\u001b[1;33m)\u001b[0m\u001b[1;33m:\u001b[0m\u001b[1;33m\u001b[0m\u001b[0m\n\u001b[0m\u001b[0;32m     48\u001b[0m             \u001b[0mcastCount\u001b[0m\u001b[1;33m[\u001b[0m\u001b[0mname\u001b[0m\u001b[1;33m.\u001b[0m\u001b[0mtext\u001b[0m\u001b[1;33m]\u001b[0m\u001b[1;33m=\u001b[0m\u001b[0mcastCount\u001b[0m\u001b[1;33m[\u001b[0m\u001b[0mname\u001b[0m\u001b[1;33m.\u001b[0m\u001b[0mtext\u001b[0m\u001b[1;33m]\u001b[0m\u001b[1;33m+\u001b[0m\u001b[1;36m1\u001b[0m\u001b[1;33m\u001b[0m\u001b[0m\n\u001b[0;32m     49\u001b[0m         \u001b[1;31m#first time - save info\u001b[0m\u001b[1;33m\u001b[0m\u001b[1;33m\u001b[0m\u001b[0m\n",
      "\u001b[1;31mAttributeError\u001b[0m: 'NoneType' object has no attribute 'text'"
     ],
     "output_type": "error"
    }
   ],
   "source": [
    "#find dups cast members and save count\n",
    "A=[]\n",
    "B=[]\n",
    "C=[]\n",
    "D=[]\n",
    "#for question3:\n",
    "actorName=[]\n",
    "filmsCount=[]\n",
    "castCount=dict() #for Question 3 - number of films with gal gadot\n",
    "for castMember in castLinks:\n",
    "    if castMember!=\"/wiki/Gal_Gadot\":\n",
    "        try:\n",
    "            actorPage = urlopen(\"https://en.wikipedia.org\" + castMember)\n",
    "            co_actor_soup = BeautifulSoup(actorPage, \"lxml\")\n",
    "        except: #page not open\n",
    "            continue\n",
    "        co_actor_vcard = co_actor_soup.find(\"table\")\n",
    "        try:\n",
    "            co_actor_vcard = co_actor_soup.find(\"table\", class_=\"infobox biography vcard\")\n",
    "            # name = co_actor_vcard.find(class_=\"fn\")\n",
    "        except:\n",
    "            try:\n",
    "                co_actor_vcard = co_actor_soup.find(\"table\", class_=\"infobox vcard plainlist\")\n",
    "                print(\"plainlist\"+castMember)\n",
    "                # name = co_actor_vcard.find(class_=\"fn\")\n",
    "            except:\n",
    "                try:\n",
    "                    co_actor_vcard = co_actor_soup.find(\"table\", class_=\"infobox vcard\")\n",
    "                            # name = co_actor_vcard.find(class_=\"fn\")\n",
    "                except:\n",
    "                    print(\"ex:  \"+castMember)\n",
    "                    continue\n",
    "        #find name\n",
    "        if(co_actor_vcard!=None):\n",
    "            try:\n",
    "                name = co_actor_vcard.find(class_=\"fn\")\n",
    "            except:\n",
    "                name=co_actor_vcard.find('th')\n",
    "        else:\n",
    "            print(\"name prob \"+castMember)\n",
    "            continue\n",
    "        #dupes - add count\n",
    "        try:\n",
    "            nameT=name.text\n",
    "        except:\n",
    "            print(castMember +\" name prob\")\n",
    "        if name.text in castCount.keys():\n",
    "            castCount[name.text]=castCount[name.text]+1\n",
    "        #first time - save info\n",
    "        else:\n",
    "            castCount[name.text]=1                 \n",
    "            birthday = co_actor_vcard.find(class_=\"bday\")  \n",
    "            birthplace = co_actor_vcard.find(class_=\"birthplace\")\n",
    "            try:\n",
    "                A.append(name.text)\n",
    "            except:\n",
    "                A.append(\"NULL\")\n",
    "            try:\n",
    "                B.append(birthday.text[:4])\n",
    "            except:\n",
    "                B.append(\"NULL\")\n",
    "            try:\n",
    "                C.append(birthplace.text)\n",
    "            except:\n",
    "                C.append(\"NULL\")\n",
    "            awards = 0\n",
    "            # actorName.append(name.text)\n",
    "            # filmsCount.appenf(castCount[actorLink])\n",
    "        \n",
    "                \n",
    "        \n",
    " \n"
   ]
  },
  {
   "cell_type": "code",
   "execution_count": 47,
   "metadata": {
    "collapsed": false
   },
   "outputs": [
    {
     "data": {
      "text/html": [
       "<div>\n",
       "<style scoped>\n",
       "    .dataframe tbody tr th:only-of-type {\n",
       "        vertical-align: middle;\n",
       "    }\n",
       "\n",
       "    .dataframe tbody tr th {\n",
       "        vertical-align: top;\n",
       "    }\n",
       "\n",
       "    .dataframe thead th {\n",
       "        text-align: right;\n",
       "    }\n",
       "</style>\n",
       "<table border=\"1\" class=\"dataframe\">\n",
       "  <thead>\n",
       "    <tr style=\"text-align: right;\">\n",
       "      <th></th>\n",
       "      <th>Name</th>\n",
       "      <th>Birth Year</th>\n",
       "      <th>Birth Country</th>\n",
       "    </tr>\n",
       "  </thead>\n",
       "  <tbody>\n",
       "    <tr>\n",
       "      <th>0</th>\n",
       "      <td>Tego Calderón</td>\n",
       "      <td>1972</td>\n",
       "      <td>NULL</td>\n",
       "    </tr>\n",
       "    <tr>\n",
       "      <th>1</th>\n",
       "      <td>Don Omar</td>\n",
       "      <td>1978</td>\n",
       "      <td>NULL</td>\n",
       "    </tr>\n",
       "    <tr>\n",
       "      <th>2</th>\n",
       "      <td>Common</td>\n",
       "      <td>1972</td>\n",
       "      <td>NULL</td>\n",
       "    </tr>\n",
       "    <tr>\n",
       "      <th>3</th>\n",
       "      <td>will.i.am</td>\n",
       "      <td>1975</td>\n",
       "      <td>NULL</td>\n",
       "    </tr>\n",
       "    <tr>\n",
       "      <th>4</th>\n",
       "      <td>Tyrese  Gibson</td>\n",
       "      <td>1978</td>\n",
       "      <td>NULL</td>\n",
       "    </tr>\n",
       "    <tr>\n",
       "      <th>5</th>\n",
       "      <td>Rita Ora</td>\n",
       "      <td>1990</td>\n",
       "      <td>NULL</td>\n",
       "    </tr>\n",
       "  </tbody>\n",
       "</table>\n",
       "</div>"
      ],
      "text/plain": [
       "<div>\n",
       "<style scoped>\n",
       "    .dataframe tbody tr th:only-of-type {\n",
       "        vertical-align: middle;\n",
       "    }\n",
       "\n",
       "    .dataframe tbody tr th {\n",
       "        vertical-align: top;\n",
       "    }\n",
       "\n",
       "    .dataframe thead th {\n",
       "        text-align: right;\n",
       "    }\n",
       "</style>\n",
       "<table border=\"1\" class=\"dataframe\">\n",
       "  <thead>\n",
       "    <tr style=\"text-align: right;\">\n",
       "      <th></th>\n",
       "      <th>Name</th>\n",
       "      <th>Birth Year</th>\n",
       "      <th>Birth Country</th>\n",
       "    </tr>\n",
       "  </thead>\n",
       "  <tbody>\n",
       "    <tr>\n",
       "      <th>0</th>\n",
       "      <td>Tego Calderón</td>\n",
       "      <td>1972</td>\n",
       "      <td>NULL</td>\n",
       "    </tr>\n",
       "    <tr>\n",
       "      <th>1</th>\n",
       "      <td>Don Omar</td>\n",
       "      <td>1978</td>\n",
       "      <td>NULL</td>\n",
       "    </tr>\n",
       "    <tr>\n",
       "      <th>2</th>\n",
       "      <td>Common</td>\n",
       "      <td>1972</td>\n",
       "      <td>NULL</td>\n",
       "    </tr>\n",
       "    <tr>\n",
       "      <th>3</th>\n",
       "      <td>will.i.am</td>\n",
       "      <td>1975</td>\n",
       "      <td>NULL</td>\n",
       "    </tr>\n",
       "    <tr>\n",
       "      <th>4</th>\n",
       "      <td>Tyrese  Gibson</td>\n",
       "      <td>1978</td>\n",
       "      <td>NULL</td>\n",
       "    </tr>\n",
       "    <tr>\n",
       "      <th>5</th>\n",
       "      <td>Rita Ora</td>\n",
       "      <td>1990</td>\n",
       "      <td>NULL</td>\n",
       "    </tr>\n",
       "  </tbody>\n",
       "</table>\n",
       "</div>"
      ]
     },
     "execution_count": 47,
     "metadata": {},
     "output_type": "execute_result"
    }
   ],
   "source": [
    "# import pandas as pd\n",
    "df2=pd.DataFrame()\n",
    "df2['Name']=A\n",
    "df2['Birth Year']=B\n",
    "df2['Birth Country']=C\n",
    "# df2['D']=D\n",
    "df2\n",
    "\n",
    "\n",
    "\n",
    "\n",
    "\n"
   ]
  },
  {
   "cell_type": "markdown",
   "metadata": {},
   "source": [
    "Question 3:"
   ]
  },
  {
   "cell_type": "code",
   "execution_count": 9,
   "metadata": {},
   "outputs": [
    {
     "data": {
      "text/html": [
       "<div>\n",
       "<style scoped>\n",
       "    .dataframe tbody tr th:only-of-type {\n",
       "        vertical-align: middle;\n",
       "    }\n",
       "\n",
       "    .dataframe tbody tr th {\n",
       "        vertical-align: top;\n",
       "    }\n",
       "\n",
       "    .dataframe thead th {\n",
       "        text-align: right;\n",
       "    }\n",
       "</style>\n",
       "<table border=\"1\" class=\"dataframe\">\n",
       "  <thead>\n",
       "    <tr style=\"text-align: right;\">\n",
       "      <th></th>\n",
       "      <th>Name</th>\n",
       "      <th># films with Gal Gadot</th>\n",
       "    </tr>\n",
       "  </thead>\n",
       "  <tbody>\n",
       "  </tbody>\n",
       "</table>\n",
       "</div>"
      ],
      "text/plain": [
       "<div>\n",
       "<style scoped>\n",
       "    .dataframe tbody tr th:only-of-type {\n",
       "        vertical-align: middle;\n",
       "    }\n",
       "\n",
       "    .dataframe tbody tr th {\n",
       "        vertical-align: top;\n",
       "    }\n",
       "\n",
       "    .dataframe thead th {\n",
       "        text-align: right;\n",
       "    }\n",
       "</style>\n",
       "<table border=\"1\" class=\"dataframe\">\n",
       "  <thead>\n",
       "    <tr style=\"text-align: right;\">\n",
       "      <th></th>\n",
       "      <th>Name</th>\n",
       "      <th># films with Gal Gadot</th>\n",
       "    </tr>\n",
       "  </thead>\n",
       "  <tbody>\n",
       "  </tbody>\n",
       "</table>\n",
       "</div>"
      ]
     },
     "execution_count": 9,
     "metadata": {},
     "output_type": "execute_result"
    }
   ],
   "source": [
    "#create data frame and show for each co-actor number of films with gal gadot\n",
    "coActorsDF=pd.DataFrame()\n",
    "coActorsDF['Name']=castCount.keys()\n",
    "coActorsDF['# films with Gal Gadot']=castCount.values()\n",
    "coActorsDF"
   ]
  },
  {
   "cell_type": "code",
   "execution_count": null,
   "metadata": {},
   "outputs": [],
   "source": []
  }
 ],
 "metadata": {
  "kernelspec": {
   "display_name": "Python 2",
   "language": "python",
   "name": "python2"
  },
  "language_info": {
   "codemirror_mode": {
    "name": "ipython",
    "version": 2
   },
   "file_extension": ".py",
   "mimetype": "text/x-python",
   "name": "python",
   "nbconvert_exporter": "python",
   "pygments_lexer": "ipython2",
   "version": "2.7.6"
  }
 },
 "nbformat": 4,
 "nbformat_minor": 0
}
